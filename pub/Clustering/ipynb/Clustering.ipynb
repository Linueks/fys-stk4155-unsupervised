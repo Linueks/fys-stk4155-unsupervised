{
 "cells": [
  {
   "cell_type": "markdown",
   "id": "3b3e67ab",
   "metadata": {
    "editable": true
   },
   "source": [
    "<!-- HTML file automatically generated from DocOnce source (https://github.com/doconce/doconce/)\n",
    "doconce format html Clustering.do.txt  -->"
   ]
  },
  {
   "cell_type": "markdown",
   "id": "ad9aa886",
   "metadata": {
    "editable": true
   },
   "source": [
    "# Clustering Analysis\n",
    "In this chapter we will concern ourselves with the study of **cluster analysis**.\n",
    "In general terms cluster analysis, or clustering, is the task of grouping a\n",
    "data-set into different distinct categories based on some measure of equality of\n",
    "the data. This measure is often referred to as a **metric** or **similarity\n",
    "measure** in the literature (note: sometimes we deal with a **dissimilarity\n",
    "measure** instead). Usually, these metrics are formulated as some kind of\n",
    "distance function between points in a high-dimensional space.\n",
    "\n",
    "There exists a lot of such distance measures. The simplest, and also the most\n",
    "common is the **Euclidean distance** (i.e. Pythagoras). A good source for those of\n",
    "you wanting a thorough overview is the article (DOI:10.5120/ijca2016907841\n",
    "Irani, Pise, Phatak). A few other metrics mentioned there are: *cosine\n",
    "similarity*, *Manhattan distance*, *Chebychev distance* and the *Minkowski\n",
    "distance*. The Minkowski distance is a general formulation which encapsulates a\n",
    "range of metrics. All of these, and many more, can be used in clustering. There\n",
    "exists different categories of clustering algorithms. A few of the most\n",
    "common are: *centroid-*, *distribution-*, *density-* and *hierarchical-\n",
    "clustering*. We will concern ourselves primarily with the first one."
   ]
  },
  {
   "cell_type": "markdown",
   "id": "81ee6cfa",
   "metadata": {
    "editable": true
   },
   "source": [
    "## Basic Idea of the K-means Clustering Algorithm\n",
    "The simplest of all clustering algorithms is the aptly named **k-means algorithm**\n",
    ", sometimes also referred to as *Lloyds algorithm*. It is the simplest and also\n",
    "the most common. From its simplicity it obtains both strengths and weaknesses.\n",
    "These will be discussed in more detail later. The k-means algorithm is a\n",
    "**centroid based** clustering algorithm.\n",
    "\n",
    "Assume, we are given $n$ data points and we wish to split the data into $K < n$\n",
    "different categories, or clusters. We label each cluster by an integer $k\\in\\{\n",
    "1, \\cdots, K \\}$. In the basic k-means algorithm each point is assigned to only\n",
    "one cluster $k$, and these assignments are *non-injective* i.e. many-to-one. We\n",
    "can think of these mappings as an encoder $k = C(i)$, which assigns the $i$-th\n",
    "data-point $\\bf x_i$ to the $k$-th cluster. Before we jump into the mathematics\n",
    "let us describe the k-means algorithm in words:\n",
    "1. We start with guesses / random initializations of our $k$ cluster centers / centroids\n",
    "\n",
    "2. For each centroid the points that are most similar are identified\n",
    "\n",
    "3. Then we move / replace each centroid with a coordinate average of all the points that were assigned to that centroid.\n",
    "\n",
    "4. Iterate this points 2, 3) until the centroids no longer move (to some tolerance)\n",
    "\n",
    "Now we consider the method formally. Again, we assume we have $n$ data-points\n",
    "(vectors)"
   ]
  },
  {
   "cell_type": "markdown",
   "id": "1514ac0e",
   "metadata": {
    "editable": true
   },
   "source": [
    "<!-- Equation labels as ordinary links -->\n",
    "<div id=\"eq:kmeanspoints\"></div>\n",
    "\n",
    "$$\n",
    "\\begin{equation}\\label{eq:kmeanspoints} \\tag{1}\n",
    "  \\boldsymbol{x_i}  = \\{x_{i, 1}, \\cdots, x_{i, p}\\}\\in\\mathbb{R}^p.\n",
    "\\end{equation}\n",
    "$$"
   ]
  },
  {
   "cell_type": "markdown",
   "id": "f81e60d4",
   "metadata": {
    "editable": true
   },
   "source": [
    "which we wish to group into $K < n$ clusters. For our dissimilarity measure we\n",
    "will use the *squared Euclidean distance*"
   ]
  },
  {
   "cell_type": "markdown",
   "id": "67d24967",
   "metadata": {
    "editable": true
   },
   "source": [
    "<!-- Equation labels as ordinary links -->\n",
    "<div id=\"eq:squaredeuclidean\"></div>\n",
    "\n",
    "$$\n",
    "\\begin{equation}\\label{eq:squaredeuclidean} \\tag{2}\n",
    "  d(\\boldsymbol{x_i}, \\boldsymbol{x_i'}) = \\sum_{j=1}^p(x_{ij} - x_{i'j})^2\n",
    "                         = ||\\boldsymbol{x_i} - \\boldsymbol{x_{i'}}||^2\n",
    "\\end{equation}\n",
    "$$"
   ]
  },
  {
   "cell_type": "markdown",
   "id": "25f31769",
   "metadata": {
    "editable": true
   },
   "source": [
    "Next we define the so called *within-cluster point scatter* which gives us a\n",
    "measure of how close each data point assigned to the same cluster tends to be to\n",
    "the all the others."
   ]
  },
  {
   "cell_type": "markdown",
   "id": "9a274230",
   "metadata": {
    "editable": true
   },
   "source": [
    "<!-- Equation labels as ordinary links -->\n",
    "<div id=\"eq:withincluster\"></div>\n",
    "\n",
    "$$\n",
    "\\begin{equation}\\label{eq:withincluster} \\tag{3}\n",
    "  W(C) = \\frac{1}{2}\\sum_{k=1}^K\\sum_{C(i)=k}\n",
    "          \\sum_{C(i')=k}d(\\boldsymbol{x_i}, \\boldsymbol{x_{i'}}) =\n",
    "          \\sum_{k=1}^KN_k\\sum_{C(i)=k}||\\boldsymbol{x_i} - \\boldsymbol{\\overline{x_k}}||^2\n",
    "\\end{equation}\n",
    "$$"
   ]
  },
  {
   "cell_type": "markdown",
   "id": "41f71de4",
   "metadata": {
    "editable": true
   },
   "source": [
    "where $\\boldsymbol{\\overline{x_k}}$ is the mean vector associated with the $k$-th\n",
    "cluster, and $N_k = \\sum_{i=1}^nI(C(i) = k)$, where the $I()$ notation is\n",
    "similar to the Kronecker delta (*Commonly used in statistics, it just means that\n",
    "when $i = k$ we have the encoder $C(i)$*). In other words,  the within-cluster\n",
    "scatter measures the compactness of each cluster with respect to the data points\n",
    "assigned to each cluster. This is the quantity that the $k$-means algorithm aims\n",
    "to minimize. We refer to this quantity $W(C)$ as the within cluster scatter\n",
    "because of its relation to the *total scatter*."
   ]
  },
  {
   "cell_type": "markdown",
   "id": "4c461137",
   "metadata": {
    "editable": true
   },
   "source": [
    "<!-- Equation labels as ordinary links -->\n",
    "<div id=\"eq:totalscatter\"></div>\n",
    "\n",
    "$$\n",
    "\\begin{equation}\\label{eq:totalscatter} \\tag{4}\n",
    "  T = W(C) + B(C) = \\frac{1}{2}\\sum_{i=1}^n\n",
    "                    \\sum_{i'=1}^nd(\\boldsymbol{x_i}, \\boldsymbol{x_{i'}})\n",
    "                  = \\frac{1}{2}\\sum_{k=1}^K\\sum_{C(i)=k}\n",
    "                    \\Big(\\sum_{C(i') = k}d(\\boldsymbol{x_i}, \\boldsymbol{x_{i'}})\n",
    "                  + \\sum_{C(i')\\neq k}d(\\boldsymbol{x_i}, \\boldsymbol{x_{i'}})\\Big)\n",
    "\\end{equation}\n",
    "$$"
   ]
  },
  {
   "cell_type": "markdown",
   "id": "491f179f",
   "metadata": {
    "editable": true
   },
   "source": [
    "Which is a quantity that is conserved throughout the $k$-means algorithm. It can\n",
    "be thought of as the total amount of information in the data, and it is composed\n",
    "of the aforementioned within-cluster scatter and the *between-cluster scatter*\n",
    "$B(C)$. In methods such as principle component analysis the total scatter is not\n",
    "conserved.\n",
    "\n",
    "Given a cluster mean $\\boldsymbol{m_k}$ we define the **total cluster variance**"
   ]
  },
  {
   "cell_type": "markdown",
   "id": "0ad64272",
   "metadata": {
    "editable": true
   },
   "source": [
    "<!-- Equation labels as ordinary links -->\n",
    "<div id=\"eq:totalclustervariance\"></div>\n",
    "\n",
    "$$\n",
    "\\begin{equation}\\label{eq:totalclustervariance} \\tag{5}\n",
    "  \\min_{C, \\{\\boldsymbol{m_k}\\}_1^K}\\sum_{k=1}^KN_k\\sum||\\boldsymbol{x_i} - \\boldsymbol{m_k}||^2\n",
    "\\end{equation}\n",
    "$$"
   ]
  },
  {
   "cell_type": "markdown",
   "id": "ca4e4e40",
   "metadata": {
    "editable": true
   },
   "source": [
    "Now we have all the pieces necessary to formally revisit the k-means algorithm.\n",
    "If you at this point feel like some of the above definitions came a bit out of\n",
    "no-where, don't fret, the method does get a whole lot simpler once we start\n",
    "programming."
   ]
  },
  {
   "cell_type": "markdown",
   "id": "d9deb2ca",
   "metadata": {
    "editable": true
   },
   "source": [
    "## The K-means Clustering Algorithm\n",
    "The k-means clustering algorithm goes as follows (note in my opinion this\n",
    "description is a bit complicated and is lifted directly out of ESL HASTIE for\n",
    "deeper understanding purposes)\n",
    "\n",
    "1. For a given cluster assignment $C$, and $k$ cluster means $\\{m_1, \\cdots, m_k\\}$. We minimize the total cluster variance with respect to the cluster means $\\{m_k\\}$ yielding the means of the currently assigned clusters.\n",
    "\n",
    "2. Given a current set of $k$ means $\\{m_k\\}$ the total cluster variance is minimized by assigning each observation to the closest (current) cluster mean. That is $$C(i) = \\underset{1\\leq k\\leq K}{\\mathrm{argmin}} ||\\boldsymbol{x_i} - \\boldsymbol{m_k}||^2$$\n",
    "\n",
    "3. Steps 1 and 2 are repeated until the assignments do not change.\n",
    "\n",
    "As previously stated the above formulation can be a bit difficult to understand,\n",
    "*at least the first time*, due to the dense notation used. But all in all the\n",
    "concept is fairly simple when explained in words. The math needs to be\n",
    "understood but to help you along the way we summarize the algorithm as follows\n",
    "(try to look at the terms above to match with the summary).\n",
    "\n",
    "1. Before we start we specify a number $k$ which is the number of clusters we want to try to separate our data into.\n",
    "\n",
    "2. We initially choose $k$ random data points in our data as our initial centroids, *or means* (this is where the name comes from).\n",
    "\n",
    "3. Assign each data point to their closest centroid, based on the squared Euclidean distance.\n",
    "\n",
    "4. For each of the $k$ cluster we update the centroid by calculating new mean values for all the data points in the cluster.\n",
    "\n",
    "5. Iteratively minimize the within cluster scatter by performing steps (3, 4) until the new assignments stop changing (can be to some tolerance) or until a maximum number of iterations have passed.\n",
    "\n",
    "That's it, nothing magical happening."
   ]
  },
  {
   "cell_type": "markdown",
   "id": "6469ec7d",
   "metadata": {
    "editable": true
   },
   "source": [
    "## Writing Our Own Code\n",
    "In the following section we will work to develop a deeper understanding of the\n",
    "previously discussed mathematics through developing codes to do k-means cluster\n",
    "analysis."
   ]
  },
  {
   "cell_type": "markdown",
   "id": "ccc9f7a2",
   "metadata": {
    "editable": true
   },
   "source": [
    "### Basic Python\n",
    "\n",
    "Let us now program the most basic version of the algorithm using nothing but\n",
    "Python with numpy arrays. This code is kept intentionally simple to gradually\n",
    "progress our understanding. There is no vectorization of any kind, and even most\n",
    "helper functions are not utilized. Throughout our implementation process it will\n",
    "be helpful to keep in mind both the mathematical description of the algorithm\n",
    "*and* our summary from above. In addition, try to think of ways to optimize this\n",
    "while reading the next section. We will get to it, take it as a challenge to see\n",
    "if your optimizations are better.\n",
    "\n",
    "First of all we need a dataset to do our cluster analysis on, for clarity (and\n",
    "lack of googling beforehand) we generate it ourselves using Gaussians. First we\n",
    "import"
   ]
  },
  {
   "cell_type": "code",
   "execution_count": 1,
   "id": "8e3b2f1b",
   "metadata": {
    "collapsed": false,
    "editable": true
   },
   "outputs": [],
   "source": [
    "%matplotlib inline\n",
    "\n",
    "import time\n",
    "import numpy as np\n",
    "import tensorflow as tf\n",
    "from matplotlib import image\n",
    "import matplotlib.pyplot as plt\n",
    "from sklearn.cluster import KMeans\n",
    "from IPython.display import display\n",
    "\n",
    "np.random.seed(2021)"
   ]
  },
  {
   "cell_type": "markdown",
   "id": "78a48fac",
   "metadata": {
    "editable": true
   },
   "source": [
    "Next we define functions, for ease of use later, to generate Gaussians and to\n",
    "set up our toy data set."
   ]
  },
  {
   "cell_type": "code",
   "execution_count": 2,
   "id": "5fe0f6b9",
   "metadata": {
    "collapsed": false,
    "editable": true
   },
   "outputs": [],
   "source": [
    "def gaussian_points(dim=2, n_points=1000, mean_vector=np.array([0, 0]),\n",
    "                    sample_variance=1):\n",
    "    \"\"\"\n",
    "    Very simple custom function to generate gaussian distributed point clusters\n",
    "    with variable dimension, number of points, means in each direction\n",
    "    (must match dim) and sample variance.\n",
    "\n",
    "    Inputs:\n",
    "        dim (int)\n",
    "        n_points (int)\n",
    "        mean_vector (np.array) (where index 0 is x, index 1 is y etc.)\n",
    "        sample_variance (float)\n",
    "\n",
    "    Returns:\n",
    "        data (np.array): with dimensions (dim x n_points)\n",
    "    \"\"\"\n",
    "\n",
    "    mean_matrix = np.zeros(dim) + mean_vector\n",
    "    covariance_matrix = np.eye(dim) * sample_variance\n",
    "    data = np.random.multivariate_normal(mean_matrix, covariance_matrix,\n",
    "                                    n_points)\n",
    "    return data\n",
    "\n",
    "\n",
    "\n",
    "def generate_simple_clustering_dataset(dim=2, n_points=1000, plotting=True,\n",
    "                                    return_data=True):\n",
    "    \"\"\"\n",
    "    Toy model to illustrate k-means clustering\n",
    "    \"\"\"\n",
    "\n",
    "    data1 = gaussian_points(mean_vector=np.array([5, 5]))\n",
    "    data2 = gaussian_points()\n",
    "    data3 = gaussian_points(mean_vector=np.array([1, 4.5]))\n",
    "    data4 = gaussian_points(mean_vector=np.array([5, 1]))\n",
    "    data = np.concatenate((data1, data2, data3, data4), axis=0)\n",
    "\n",
    "    if plotting:\n",
    "        fig, ax = plt.subplots()\n",
    "        ax.scatter(data[:, 0], data[:, 1], alpha=0.2)\n",
    "        ax.set_title('Toy Model Dataset')\n",
    "        plt.show()\n",
    "\n",
    "\n",
    "    if return_data:\n",
    "        return data\n",
    "\n",
    "\n",
    "data = generate_simple_clustering_dataset()"
   ]
  },
  {
   "cell_type": "markdown",
   "id": "ef63ee37",
   "metadata": {
    "editable": true
   },
   "source": [
    "Now that we are our, albeit very simple, dataset we are ready to start\n",
    "implementing the k-means algorithm."
   ]
  },
  {
   "cell_type": "code",
   "execution_count": 3,
   "id": "c20508d6",
   "metadata": {
    "collapsed": false,
    "editable": true
   },
   "outputs": [],
   "source": [
    "\n",
    "n_samples, dimensions = data.shape\n",
    "n_clusters = 4\n",
    "\n",
    "# we randomly initialize our centroids\n",
    "np.random.seed(2021)\n",
    "centroids = data[np.random.choice(n_samples, n_clusters, replace=False), :]\n",
    "distances = np.zeros((n_samples, n_clusters))\n",
    "\n",
    "# first we need to calculate the distance to each centroid from our data\n",
    "for k in range(n_clusters):\n",
    "    for n in range(n_samples):\n",
    "        dist = 0\n",
    "        for d in range(dimensions):\n",
    "            dist += np.abs(data[n, d] - centroids[k, d])**2\n",
    "            distances[n, k] = dist\n",
    "\n",
    "# we initialize an array to keep track of to which cluster each point belongs\n",
    "# the way we set it up here the index tracks which point and the value which\n",
    "# cluster the point belongs to\n",
    "cluster_labels = np.zeros(n_samples, dtype='int')\n",
    "\n",
    "# next we loop through our samples and for every point assign it to the cluster\n",
    "# to which it has the smallest distance to\n",
    "for n in range(n_samples):\n",
    "    # tracking variables (all of this is basically just an argmin)\n",
    "    smallest = 1e10\n",
    "    smallest_row_index = 1e10\n",
    "    for k in range(n_clusters):\n",
    "        if distances[n, k] < smallest:\n",
    "            smallest = distances[n, k]\n",
    "            smallest_row_index = k\n",
    "\n",
    "    cluster_labels[n] = smallest_row_index"
   ]
  },
  {
   "cell_type": "markdown",
   "id": "45727985",
   "metadata": {
    "editable": true
   },
   "source": [
    "Let's plot and see"
   ]
  },
  {
   "cell_type": "code",
   "execution_count": 4,
   "id": "4909c810",
   "metadata": {
    "collapsed": false,
    "editable": true
   },
   "outputs": [],
   "source": [
    "fig = plt.figure()\n",
    "ax = fig.add_subplot()\n",
    "unique_cluster_labels = np.unique(cluster_labels)\n",
    "for i in unique_cluster_labels:\n",
    "    ax.scatter(data[cluster_labels == i, 0],\n",
    "               data[cluster_labels == i, 1],\n",
    "               label = i,\n",
    "               alpha = 0.2)\n",
    "    ax.scatter(centroids[:, 0], centroids[:, 1], c='black')\n",
    "\n",
    "ax.set_title(\"First Grouping of Points to Centroids\")\n",
    "\n",
    "plt.show()"
   ]
  },
  {
   "cell_type": "markdown",
   "id": "f7291efa",
   "metadata": {
    "editable": true
   },
   "source": [
    "So what do we have so far? We have 'picked' $k$ centroids at random from our\n",
    "data points. There are other ways of more intelligently choosing their\n",
    "initializations, however for our purposes randomly is fine. Then we have\n",
    "initialized an array 'distances' which holds the information of the distance,\n",
    "*or dissimilarity*, of every point to of our centroids. Finally, we have\n",
    "initialized an array 'cluster_labels' which according to our distances array\n",
    "holds the information of to which centroid every point is assigned. This was the\n",
    "first pass of our algorithm. Essentially, all we need to do now is repeat the\n",
    "distance and assignment steps above until we have reached a desired convergence\n",
    "or a maximum amount of iterations."
   ]
  },
  {
   "cell_type": "code",
   "execution_count": 5,
   "id": "21e5d726",
   "metadata": {
    "collapsed": false,
    "editable": true
   },
   "outputs": [],
   "source": [
    "\n",
    "max_iterations = 100\n",
    "tolerance = 1e-8\n",
    "\n",
    "for iteration in range(max_iterations):\n",
    "    prev_centroids = centroids.copy()\n",
    "    for k in range(n_clusters):\n",
    "        # this array will be used to update our centroid positions\n",
    "        vector_mean = np.zeros(dimensions)\n",
    "        mean_divisor = 0\n",
    "        for n in range(n_samples):\n",
    "            if cluster_labels[n] == k:\n",
    "                vector_mean += data[n, :]\n",
    "                mean_divisor += 1\n",
    "\n",
    "        # update according to the k means\n",
    "        centroids[k, :] = vector_mean / mean_divisor\n",
    "\n",
    "    # we find the dissimilarity\n",
    "    for k in range(n_clusters):\n",
    "        for n in range(n_samples):\n",
    "            dist = 0\n",
    "            for d in range(dimensions):\n",
    "                dist += np.abs(data[n, d] - centroids[k, d])**2\n",
    "                distances[n, k] = dist\n",
    "\n",
    "    # assign each point\n",
    "    for n in range(n_samples):\n",
    "        smallest = 1e10\n",
    "        smallest_row_index = 1e10\n",
    "        for k in range(n_clusters):\n",
    "            if distances[n, k] < smallest:\n",
    "                smallest = distances[n, k]\n",
    "                smallest_row_index = k\n",
    "\n",
    "        cluster_labels[n] = smallest_row_index\n",
    "\n",
    "    # convergence criteria\n",
    "    centroid_difference = np.sum(np.abs(centroids - prev_centroids))\n",
    "    if centroid_difference < tolerance:\n",
    "        print(f'Converged at iteration {iteration}')\n",
    "        break\n",
    "\n",
    "    elif iteration == max_iterations:\n",
    "        print(f'Did not converge in {max_iterations} iterations')"
   ]
  },
  {
   "cell_type": "markdown",
   "id": "e927dfe2",
   "metadata": {
    "editable": true
   },
   "source": [
    "And thats it! We now have an extremely barebones, un-optimized k-means\n",
    "clustering implementation. Lets plot the final result"
   ]
  },
  {
   "cell_type": "code",
   "execution_count": 6,
   "id": "f1d0a3b9",
   "metadata": {
    "collapsed": false,
    "editable": true
   },
   "outputs": [],
   "source": [
    "fig = plt.figure()\n",
    "ax = fig.add_subplot()\n",
    "unique_cluster_labels = np.unique(cluster_labels)\n",
    "for i in unique_cluster_labels:\n",
    "    ax.scatter(data[cluster_labels == i, 0],\n",
    "               data[cluster_labels == i, 1],\n",
    "               label = i,\n",
    "               alpha = 0.2)\n",
    "    ax.scatter(centroids[:, 0], centroids[:, 1], c='black')\n",
    "\n",
    "ax.set_title(\"Final Result of K-means Clustering\")\n",
    "\n",
    "plt.show()"
   ]
  },
  {
   "cell_type": "markdown",
   "id": "781b81e5",
   "metadata": {
    "editable": true
   },
   "source": [
    "And here is an animation of the progression of the algorithm.\n",
    "\n",
    "<!-- dom:MOVIE: [clustering_example_images/simple_clustering.gif] -->\n",
    "<!-- begin movie -->"
   ]
  },
  {
   "cell_type": "code",
   "execution_count": 7,
   "id": "34919df0",
   "metadata": {
    "collapsed": false,
    "editable": true
   },
   "outputs": [],
   "source": [
    "from IPython.display import HTML\n",
    "_s = \"\"\"\n",
    "<embed src=\"clustering_example_images/simple_clustering.gif\"  autoplay=\"false\" loop=\"true\"></embed>\n",
    "<p><em></em></p>\n",
    "\"\"\"\n",
    "HTML(_s)"
   ]
  },
  {
   "cell_type": "markdown",
   "id": "d1658ffd",
   "metadata": {
    "editable": true
   },
   "source": [
    "<!-- end movie -->\n",
    "\n",
    "The completed code, up to this point, is wrapped in a function for convenience\n",
    "later."
   ]
  },
  {
   "cell_type": "code",
   "execution_count": 8,
   "id": "8223a894",
   "metadata": {
    "collapsed": false,
    "editable": true
   },
   "outputs": [],
   "source": [
    "def naive_kmeans(data, n_clusters=4, max_iterations=100, tolerance=1e-8):\n",
    "    start_time = time.time()\n",
    "\n",
    "    n_samples, dimensions = data.shape\n",
    "    n_clusters = 4\n",
    "    #np.random.seed(2021)\n",
    "    centroids = data[np.random.choice(n_samples, n_clusters, replace=False), :]\n",
    "    distances = np.zeros((n_samples, n_clusters))\n",
    "\n",
    "    for k in range(n_clusters):\n",
    "        for n in range(n_samples):\n",
    "            dist = 0\n",
    "            for d in range(dimensions):\n",
    "                dist += np.abs(data[n, d] - centroids[k, d])**2\n",
    "                distances[n, k] = dist\n",
    "\n",
    "    cluster_labels = np.zeros(n_samples, dtype='int')\n",
    "\n",
    "    for n in range(n_samples):\n",
    "        smallest = 1e10\n",
    "        smallest_row_index = 1e10\n",
    "        for k in range(n_clusters):\n",
    "            if distances[n, k] < smallest:\n",
    "                smallest = distances[n, k]\n",
    "                smallest_row_index = k\n",
    "\n",
    "        cluster_labels[n] = smallest_row_index\n",
    "\n",
    "    for iteration in range(max_iterations):\n",
    "        prev_centroids = centroids.copy()\n",
    "        for k in range(n_clusters):\n",
    "            vector_mean = np.zeros(dimensions)\n",
    "            mean_divisor = 0\n",
    "            for n in range(n_samples):\n",
    "                if cluster_labels[n] == k:\n",
    "                    vector_mean += data[n, :]\n",
    "                    mean_divisor += 1\n",
    "\n",
    "            centroids[k, :] = vector_mean / mean_divisor\n",
    "\n",
    "        for k in range(n_clusters):\n",
    "            for n in range(n_samples):\n",
    "                dist = 0\n",
    "                for d in range(dimensions):\n",
    "                    dist += np.abs(data[n, d] - centroids[k, d])**2\n",
    "                    distances[n, k] = dist\n",
    "\n",
    "        for n in range(n_samples):\n",
    "            smallest = 1e10\n",
    "            smallest_row_index = 1e10\n",
    "            for k in range(n_clusters):\n",
    "                if distances[n, k] < smallest:\n",
    "                    smallest = distances[n, k]\n",
    "                    smallest_row_index = k\n",
    "\n",
    "            cluster_labels[n] = smallest_row_index\n",
    "\n",
    "        centroid_difference = np.sum(np.abs(centroids - prev_centroids))\n",
    "        if centroid_difference < tolerance:\n",
    "            print(f'Converged at iteration {iteration}')\n",
    "            print(f'Runtime: {time.time() - start_time} seconds')\n",
    "\n",
    "            return cluster_labels, centroids\n",
    "\n",
    "    print(f'Did not converge in {max_iterations} iterations')\n",
    "    print(f'Runtime: {time.time() - start_time} seconds')\n",
    "\n",
    "    return cluster_labels, centroids"
   ]
  },
  {
   "cell_type": "markdown",
   "id": "af389edc",
   "metadata": {
    "editable": true
   },
   "source": [
    "Now there are a few glaring improvements to be done here. First of all is\n",
    "organizing things into functions for better readability. Second is getting rid\n",
    "of the small inefficiencies like manually calculating distances and argmin. And\n",
    "finally, we need to optimize for better run-time. It's like we always say: the\n",
    "best way of looping in Python is to not loop in Python. Let us tackle the first\n",
    "two improvements."
   ]
  },
  {
   "cell_type": "markdown",
   "id": "f99b844a",
   "metadata": {
    "editable": true
   },
   "source": [
    "### Towards a More Numpythonic Code"
   ]
  },
  {
   "cell_type": "code",
   "execution_count": 9,
   "id": "a2082379",
   "metadata": {
    "collapsed": false,
    "editable": true
   },
   "outputs": [],
   "source": [
    "\n",
    "def get_distances_to_clusters(data, centroids):\n",
    "    \"\"\"\n",
    "    Function that for each cluster finds the squared Euclidean distance\n",
    "    from every data point to the cluster centroid and returns a numpy array\n",
    "    containing the distances such that distance[i, j] means the distance between\n",
    "    the i-th point and the j-th centroid.\n",
    "    Inputs:\n",
    "        data (np.array): with dimensions (n_samples x dim)\n",
    "        centroids (np.array): with dimensions (n_clusters x dim)\n",
    "\n",
    "    Returns:\n",
    "        distances (np.array): with dimensions (n_samples x n_clusters)\n",
    "    \"\"\"\n",
    "\n",
    "    n_samples, dimensions = data.shape\n",
    "    n_clusters = centroids.shape[0]\n",
    "    distances = np.zeros((n_samples, n_clusters))\n",
    "    for k in range(n_clusters):\n",
    "        for i in range(n_samples):\n",
    "            dist = 0\n",
    "            for j in range(dimensions):\n",
    "                dist += np.abs(data[i, j] - centroids[k, j])**2\n",
    "                distances[i, k] = dist\n",
    "\n",
    "    return distances\n",
    "\n",
    "\n",
    "\n",
    "def assign_points_to_clusters(distances):\n",
    "    \"\"\"\n",
    "    Function to assign each data point to the cluster to which it is the closest\n",
    "    based on the squared Euclidean distance from the get_distances_to_clusters\n",
    "    method.\n",
    "    Inputs:\n",
    "        distances (np.array): with dimensions (n_samples x n_clusters)\n",
    "\n",
    "    Returns:\n",
    "        cluster_labels (np.array): with dimensions (n_samples)\n",
    "    \"\"\"\n",
    "    cluster_labels = np.argmin(distances, axis=1)\n",
    "\n",
    "    return cluster_labels\n",
    "\n",
    "\n",
    "\n",
    "def k_means(data, n_clusters=4, max_iterations=100, tolerance=1e-8):\n",
    "    \"\"\"\n",
    "    Naive implementation of the k-means clustering algorithm. A short summary of\n",
    "    the algorithm is as follows: we randomly initialize k centroids / means.\n",
    "    Then we assign, using the squared Euclidean distance, every data-point to a\n",
    "    cluster. We then update the position of the k centroids / means, and repeat\n",
    "    until convergence or we reach our desired maximum iterations. The method\n",
    "    returns the cluster assignments of our data-points and a sequence of\n",
    "    centroids.\n",
    "    Inputs:\n",
    "        data (np.array): with dimesions (n_samples x dim)\n",
    "        n_clusters (int): hyperparameter which depends on dataset\n",
    "        max_iterations (int): hyperparameter which depends on dataset\n",
    "        tolerance (float): convergence measure\n",
    "\n",
    "    Returns:\n",
    "        cluster_labels (np.array): with dimension (n_samples)\n",
    "        centroid_list (list): list of centroids (np.array)\n",
    "                              with dimensions (n_clusters x dim)\n",
    "    \"\"\"\n",
    "    start_time = time.time()\n",
    "    n_samples, dimensions = data.shape\n",
    "    #np.random.seed(2021)\n",
    "    centroids = data[np.random.choice(len(data), n_clusters, replace=False), :]\n",
    "    distances = get_distances_to_clusters(data, centroids)\n",
    "    cluster_labels = assign_points_to_clusters(distances)\n",
    "\n",
    "\n",
    "    for iteration in range(max_iterations):\n",
    "        prev_centroids = centroids.copy()\n",
    "        for k in range(n_clusters):\n",
    "            vector_mean = np.zeros(dimensions)\n",
    "            mean_divisor = 0\n",
    "            for n in range(n_samples):\n",
    "                if cluster_labels[n] == k:\n",
    "                    vector_mean += data[n, :]\n",
    "                    mean_divisor += 1\n",
    "            # And update according to the new means\n",
    "            centroids[k, :] = vector_mean / mean_divisor\n",
    "\n",
    "        distances = get_distances_to_clusters(data, centroids)\n",
    "        cluster_labels = assign_points_to_clusters(distances)\n",
    "\n",
    "        centroid_difference = np.sum(np.abs(centroids - prev_centroids))\n",
    "        if centroid_difference < tolerance:\n",
    "            print(f'Converged at iteration: {iteration}')\n",
    "            print(f'Runtime: {time.time() - start_time} seconds')\n",
    "\n",
    "            return cluster_labels, centroids\n",
    "\n",
    "    print(f'Did not converge in {max_iterations} iterations')\n",
    "    print(f'Runtime: {time.time() - start_time} seconds')\n",
    "\n",
    "    return cluster_labels, centroids\n",
    "\n",
    "cluster_labels, centroids = k_means(data)"
   ]
  },
  {
   "cell_type": "markdown",
   "id": "4b6bc984",
   "metadata": {
    "editable": true
   },
   "source": [
    "Notice we added timing to our code. Although, the result of timing once will not\n",
    "be optimal, it can still give us hints about the order of magnitude of our\n",
    "subsequent improvements\n",
    "\n",
    "So we see an improvement from just switching to numpy's argmin function. There\n",
    "is a very nice tool (or category of tools) called profilers. These can be\n",
    "utilized to make clearer which improvements to our code we should care most\n",
    "about here is an [excellent source](https://ipython-books.github.io/42-profiling-your-code-easily-with-cprofile-and-ipython/)\n",
    "on the topic. Even before optimizing we can understand which parts of our code\n",
    "will be taking the most of the run-time. It will be the longest Python loop,\n",
    "i.e. the loop over all the samples. Nonetheless, let us do some profiling!"
   ]
  },
  {
   "cell_type": "code",
   "execution_count": 10,
   "id": "5d6fa875",
   "metadata": {
    "collapsed": false,
    "editable": true
   },
   "outputs": [],
   "source": [
    "test_data = generate_simple_clustering_dataset(n_points=10000, plotting=False)\n",
    "%prun -l 10 cluster_labels, centroids = k_means(test_data)"
   ]
  },
  {
   "cell_type": "markdown",
   "id": "fdc3a204",
   "metadata": {
    "editable": true
   },
   "source": [
    "Here we can see the reason for profiling. We now know for certain a lot can be\n",
    "gained just by vectorizing our distance function. Ideally we wish to perform\n",
    "most of our loops in numpy, i.e. C. To do this we need our array shapes to match\n",
    "and clever reshaping will let us do so."
   ]
  },
  {
   "cell_type": "code",
   "execution_count": 11,
   "id": "5593ac7b",
   "metadata": {
    "collapsed": false,
    "editable": true
   },
   "outputs": [],
   "source": [
    "\n",
    "def np_get_distances_to_clusters(data, centroids):\n",
    "    \"\"\"\n",
    "    Squared Euclidean distance between all data-points and every centroid. For\n",
    "    the function to work properly it needs data and centroids to be numpy\n",
    "    broadcastable. We sum along the dimension axis.\n",
    "    Inputs:\n",
    "        data (np.array): with dimensions (samples x 1 x dim)\n",
    "        centroids (np.array): with dimensions (1 x n_clusters x dim)\n",
    "\n",
    "    Returns:\n",
    "        distances (np.array): with dimensions (samples x n_clusters)\n",
    "    \"\"\"\n",
    "\n",
    "    distances = np.sum(np.abs((data - centroids))**2, axis=2)\n",
    "    return distances\n",
    "\n",
    "def np_assign_points_to_clusters(distances):\n",
    "    \"\"\"\n",
    "    Assigning each data-point to a cluster given an array distances containing\n",
    "    the squared Euclidean distance from every point to each centroid. We do\n",
    "    np.argmin along the cluster axis to find the closest cluster. Returns a\n",
    "    numpy array with corresponding labels.\n",
    "    Inputs:\n",
    "        distances (np.array): with dimensions (samples x n_clusters)\n",
    "\n",
    "    Returns:\n",
    "        cluster_labels (np.array): with dimensions (samples x None)\n",
    "    \"\"\"\n",
    "    cluster_labels = np.argmin(distances, axis=1)\n",
    "    return cluster_labels\n",
    "\n",
    "\n",
    "def np_k_means(data, n_clusters=4, max_iterations=100, tolerance=1e-8):\n",
    "    \"\"\"\n",
    "    Numpythonic implementation of the k-means clusting algorithm.\n",
    "    Inputs:\n",
    "        data (np.array): with dimesions (n_samples x dim)\n",
    "        n_clusters (int): hyperparameter which depends on dataset\n",
    "        max_iterations (int): hyperparameter which depends on dataset\n",
    "        tolerance (float): convergence measure\n",
    "\n",
    "    Returns:\n",
    "        cluster_labels (np.array): with dimension (n_samples)\n",
    "        centroid_list (list): list of centroids (np.array)\n",
    "                              with dimensions (n_clusters x dim)\n",
    "    \"\"\"\n",
    "    start_time = time.time()\n",
    "    n_samples, dimensions = data.shape\n",
    "    #np.random.seed(2021)\n",
    "    centroids = data[np.random.choice(len(data), n_clusters, replace=False), :]\n",
    "\n",
    "    distances = np_get_distances_to_clusters(np.reshape(data,\n",
    "                                            (n_samples, 1, dimensions)),\n",
    "                                          np.reshape(centroids,\n",
    "                                            (1, n_clusters, dimensions)))\n",
    "    cluster_labels = np_assign_points_to_clusters(distances)\n",
    "\n",
    "\n",
    "    for iteration in range(max_iterations):\n",
    "        prev_centroids = centroids.copy()\n",
    "        for k in range(n_clusters):\n",
    "            points_in_cluster = data[cluster_labels == k]\n",
    "            mean_vector = np.mean(points_in_cluster, axis=0)\n",
    "            centroids[k] = mean_vector\n",
    "\n",
    "        distances = np_get_distances_to_clusters(np.reshape(data,\n",
    "                                                (n_samples, 1, dimensions)),\n",
    "                                              np.reshape(centroids,\n",
    "                                                (1, n_clusters, dimensions)))\n",
    "        cluster_labels = np_assign_points_to_clusters(distances)\n",
    "\n",
    "        centroid_difference = np.sum(np.abs(centroids - prev_centroids))\n",
    "        if centroid_difference < tolerance:\n",
    "            print(f'Converged at iteration: {iteration}')\n",
    "            print(f'Runtime: {time.time() - start_time} seconds')\n",
    "\n",
    "            return cluster_labels, centroids\n",
    "\n",
    "    print(f'Did not converge in {max_iterations} iterations')\n",
    "    print(f'Runtime: {time.time() - start_time} seconds')\n",
    "\n",
    "    return cluster_labels, centroids"
   ]
  },
  {
   "cell_type": "markdown",
   "id": "be65b6ec",
   "metadata": {
    "editable": true
   },
   "source": [
    "When working towards becoming a data scientist using Python this last step is\n",
    "arguably one of the most important. Thinking of ways to avoid explicitly looping\n",
    "by adding dimensions to our arrays in such a way that they become broadcastable\n",
    "using numpy (also tensorflow and many others). Let us take a look at our the\n",
    "fruits of our labor."
   ]
  },
  {
   "cell_type": "code",
   "execution_count": 12,
   "id": "026716d2",
   "metadata": {
    "collapsed": false,
    "editable": true
   },
   "outputs": [],
   "source": [
    "cluster_labels, centroids = np_k_means(data)"
   ]
  },
  {
   "cell_type": "markdown",
   "id": "4083fb46",
   "metadata": {
    "editable": true
   },
   "source": [
    "So our new code is around **two orders of magnitude** faster on this limited test\n",
    "example!\n",
    "\n",
    "So let us recap what we have learned. The $k$-means algorithm works by\n",
    "iteratively updating $k$ means according to the squared Euclidean distance to\n",
    "our data points. One way of thinking about it is in terms of compressing the\n",
    "original high dimensional data to a lower dimension. The process of which,\n",
    "*hopefully*, captures something about the structure of the original data.\n",
    "Phrased according to our example, we start of with 4000 '*groups*' which we\n",
    "'compress' to just four '*groups*'. We have first hand seen the unreasonable\n",
    "inefficiency of pure Python loops and learned to think about loops as just\n",
    "another way of looking at the dimensionality of our data."
   ]
  },
  {
   "cell_type": "markdown",
   "id": "a1167850",
   "metadata": {
    "editable": true
   },
   "source": [
    "### Onto Bigger and Better Things\n",
    "\n",
    "As is often the case, someone has already done everything we have just done\n",
    "(often but not always better). Let us take a look at [scikit-learn's\n",
    "implementation](https://scikit-learn.org/stable/modules/generated/sklearn.cluster.KMeans.html).\n",
    "We define a wrapper function for timing and benchmarking purposes later."
   ]
  },
  {
   "cell_type": "code",
   "execution_count": 13,
   "id": "2595d142",
   "metadata": {
    "collapsed": false,
    "editable": true
   },
   "outputs": [],
   "source": [
    "def skl_kmeans(data, n_clusters=4, max_iterations=100, tolerance=1e-8):\n",
    "    start_time = time.time()\n",
    "    #np.random.seed(2021)\n",
    "    kmeans = KMeans(n_clusters=n_clusters, max_iter=max_iterations,\n",
    "                tol=tolerance).fit(data)\n",
    "\n",
    "    print(f'Converged at iteration {kmeans.n_iter_}')\n",
    "    print(f'Runtime: {time.time() - start_time} seconds')\n",
    "\n",
    "    return kmeans.labels_, kmeans.cluster_centers_"
   ]
  },
  {
   "cell_type": "markdown",
   "id": "ea085c10",
   "metadata": {
    "editable": true
   },
   "source": [
    "Now let us get an idea how we hold up against the professionals."
   ]
  },
  {
   "cell_type": "code",
   "execution_count": 14,
   "id": "af35aa76",
   "metadata": {
    "collapsed": false,
    "editable": true
   },
   "outputs": [],
   "source": [
    "cluster_labels, centroids = skl_kmeans(data)"
   ]
  },
  {
   "cell_type": "markdown",
   "id": "ea0bc81c",
   "metadata": {
    "editable": true
   },
   "source": [
    "Here we get another important lesson, there is a cost for convenience. In\n",
    "addition, there might be various tests and other things enforcing robustness in\n",
    "the sklearn implementation which are not present in our numpy code. However,\n",
    "the result still speaks for themselves.\n",
    "\n",
    "The final implementation we will look at is one in tensorflow. Now while\n",
    "tensorflow is not strictly meant for things like this. It is natively highly\n",
    "parallelized with functionality out of the box to run on GPU's. The following\n",
    "code is based on, and adapted from this [blog-post](https://www.altoros.com/blog/using-k-means-clustering-in-tensorflow/)"
   ]
  },
  {
   "cell_type": "code",
   "execution_count": 15,
   "id": "7ff44eb2",
   "metadata": {
    "collapsed": false,
    "editable": true
   },
   "outputs": [],
   "source": [
    "\n",
    "def tf_kmeans(data, n_clusters=4, max_iterations=100, tolerance=1e-8):\n",
    "    start_time = time.time()\n",
    "    data = tf.constant(data)\n",
    "    centroids = tf.constant(tf.slice(tf.random.shuffle(data),\n",
    "                              begin=[0, 0],\n",
    "                              size=[n_clusters, -1]))\n",
    "\n",
    "    @tf.function\n",
    "    def update_centroids(data, centroids):\n",
    "        data_expanded = tf.expand_dims(data, 0)\n",
    "        centroids_expanded = tf.expand_dims(centroids, 1)\n",
    "\n",
    "        distances = tf.reduce_sum(\n",
    "                        tf.square(\n",
    "                            tf.subtract(data_expanded, centroids_expanded)), 2)\n",
    "        cluster_labels = tf.argmin(distances, 0)\n",
    "        means = []\n",
    "\n",
    "        for k in range(n_clusters):\n",
    "            temp = tf.reshape(tf.where(tf.equal(cluster_labels, k)),\n",
    "                      shape=[1, -1])\n",
    "            temp = tf.gather(data, temp, validate_indices=None)\n",
    "            temp = tf.reduce_mean(temp, axis=[1])\n",
    "            means.append(temp)\n",
    "            updated_centroids = tf.concat(means, 0)\n",
    "\n",
    "        return cluster_labels, updated_centroids\n",
    "\n",
    "    for iteration in range(max_iterations):\n",
    "        prev_centroids = tf.identity(centroids)\n",
    "        cluster_labels, centroids = update_centroids(data, centroids)\n",
    "\n",
    "        if tf.reduce_sum(\n",
    "            tf.abs(\n",
    "                tf.subtract(prev_centroids, centroids))) < tolerance:\n",
    "\n",
    "            print(f'Converged at iteration {iteration}')\n",
    "            print(f'Runtime: {time.time() - start_time} seconds')\n",
    "\n",
    "            return cluster_labels, centroids\n",
    "\n",
    "    print(f'Did not converge in {max_iterations} iterations')\n",
    "    print(f'Runtime: {time.time() - start_time} seconds')\n",
    "    return cluster_labels, centroids"
   ]
  },
  {
   "cell_type": "code",
   "execution_count": 16,
   "id": "602e0274",
   "metadata": {
    "collapsed": false,
    "editable": true
   },
   "outputs": [],
   "source": [
    "\n",
    "cluster_labels, centroids = tf_kmeans(data)"
   ]
  },
  {
   "cell_type": "markdown",
   "id": "ca89c423",
   "metadata": {
    "editable": true
   },
   "source": [
    "**Note** tensorflow has a different seed than numpy, so direct comparison of just\n",
    "one run of the code (bad practice) is not doable. Also notice the @tf.function.\n",
    "This was introduced in tensorflow 2 and signifies that the function is\n",
    "'compiled'. We will look at benchmarking all our methods next.\n",
    "\n",
    "But first we plot or result to see we get something which looks correct. We also\n",
    "take this opportunity to define a function for our plotting."
   ]
  },
  {
   "cell_type": "code",
   "execution_count": 17,
   "id": "676df787",
   "metadata": {
    "collapsed": false,
    "editable": true
   },
   "outputs": [],
   "source": [
    "\n",
    "def make_plot(data, cluster_labels, centroids, method_string):\n",
    "    \"\"\"\n",
    "    Simple plot function\n",
    "\n",
    "    Inputs:\n",
    "        data (np.array like) with dimensions: (n_samples x dim)\n",
    "        cluster_labels (np.array like) with dimensions: (n_samples)\n",
    "        centroids (np.array like) with dimensions: (n_clusters x dim)\n",
    "\n",
    "    \"\"\"\n",
    "    fig = plt.figure()\n",
    "    ax = fig.add_subplot()\n",
    "    unique_cluster_labels = np.unique(cluster_labels)\n",
    "    for i in unique_cluster_labels:\n",
    "        ax.scatter(data[cluster_labels == i, 0],\n",
    "                   data[cluster_labels == i, 1],\n",
    "                   label = i,\n",
    "                   alpha = 0.2)\n",
    "        ax.scatter(centroids[:, 0], centroids[:, 1], c='black')\n",
    "\n",
    "    ax.set_title(f\"K Means Clustering using {method_string} Method\")\n",
    "\n",
    "    plt.show()"
   ]
  },
  {
   "cell_type": "code",
   "execution_count": 18,
   "id": "9ecf1179",
   "metadata": {
    "collapsed": false,
    "editable": true
   },
   "outputs": [],
   "source": [
    "\n",
    "make_plot(data, cluster_labels, centroids, \"Tensorflow\")"
   ]
  },
  {
   "cell_type": "markdown",
   "id": "36c91c35",
   "metadata": {
    "editable": true
   },
   "source": [
    "Looks good! To summarize, we have now seen how to code the most basic Python\n",
    "version, how to optimize and use a profiler, we ended up with a really quick\n",
    "numpythonic version of our code. Then we looked at two implementations of the\n",
    "$k$ means algorithm using higher level libraries scikit-learn and tensorflow."
   ]
  },
  {
   "cell_type": "markdown",
   "id": "b1cc050d",
   "metadata": {
    "editable": true
   },
   "source": [
    "## Benchmarking and Testing Our Code\n",
    "Now that we have developed our code, the next logical step is testing how well\n",
    "our different implementations fare against each other in various tests. We start\n",
    "with doing a Monte Carlo run over all our methods to produce numerical estimates\n",
    "for the performance of our implementations."
   ]
  },
  {
   "cell_type": "code",
   "execution_count": 19,
   "id": "9facc268",
   "metadata": {
    "collapsed": false,
    "editable": true
   },
   "outputs": [],
   "source": [
    "monte_carlo_cycles = 10\n",
    "n_data_points = np.logspace(10, 100, num=2)\n",
    "method_dict = {\n",
    "    'Python': naive_kmeans,\n",
    "    'Numpy': np_k_means,\n",
    "    'Scikit-Learn': skl_kmeans,\n",
    "    'Tensorflow': tf_kmeans\n",
    "}\n",
    "times_array = np.zeros((4, len(n_data_points), monte_carlo_cycles))\n",
    "\n",
    "for i, (method_string, method) in enumerate(method_dict.items()):\n",
    "    for j, n_points in enumerate(n_data_points):\n",
    "        data = generate_simple_clustering_dataset(n_points=n_points,\n",
    "                                                  plotting=False)\n",
    "\n",
    "        for k in range(monte_carlo_cycles):\n",
    "            toc = time.time()\n",
    "            cluster_labels, centroids = method(data)\n",
    "            tic = time.time() - toc\n",
    "            times_array[i, j, k] = tic"
   ]
  },
  {
   "cell_type": "code",
   "execution_count": 20,
   "id": "714afe3e",
   "metadata": {
    "collapsed": false,
    "editable": true
   },
   "outputs": [],
   "source": [
    "\n",
    "means = np.mean(times_array, axis=2)\n",
    "std = np.std(times_array, axis=2)\n",
    "\n",
    "fig = plt.figure()\n",
    "ax = fig.add_subplot()\n",
    "\n",
    "for i, method_string in enumerate(method_dict):\n",
    "    print(i, method_string)\n",
    "    ax.errorbar(n_data_points, means[i, :], yerr=std[i, :],\n",
    "                label=method_string,\n",
    "                markersize=10,\n",
    "                capsize=5)\n",
    "\n",
    "ax.set_xlabel('$n$ data points')\n",
    "ax.set_ylabel('$t$ seconds')\n",
    "fig.legend()\n",
    "plt.show()"
   ]
  },
  {
   "cell_type": "markdown",
   "id": "9dbabb2a",
   "metadata": {
    "editable": true
   },
   "source": [
    "The naive Python implementation is too slow to see the nuance in the others, we\n",
    "plot again without it"
   ]
  },
  {
   "cell_type": "code",
   "execution_count": 21,
   "id": "c2162071",
   "metadata": {
    "collapsed": false,
    "editable": true
   },
   "outputs": [],
   "source": [
    "fig = plt.figure()\n",
    "ax = fig.add_subplot()\n",
    "\n",
    "# this turned out a bit hacky\n",
    "for i, method_string in enumerate(list(method_dict.keys())[1:]):\n",
    "    ax.errorbar(n_data_points, means[i+1, :], yerr=std[i+1, :],\n",
    "                label=method_string,\n",
    "                markersize=10,\n",
    "                capsize=5)\n",
    "\n",
    "ax.set_xlabel('$n$ data points')\n",
    "ax.set_ylabel('$t$ seconds')\n",
    "fig.legend()\n",
    "plt.show()"
   ]
  },
  {
   "cell_type": "markdown",
   "id": "2ef83108",
   "metadata": {
    "editable": true
   },
   "source": [
    "**THERE NEEDS TO BE A DISCUSSION OF RESULTS HERE WHEN I PRODUCED THEM**\n",
    "\n",
    "**POTENTIALLY NEED TO DO SOMETHING LIKE THE SKL CLUSTERING EXAMPLE**\n",
    "**THAT COULD LEAD TO DISCUSSION OF STRENGTHS AND WEAKNESSES OF METHOD**"
   ]
  },
  {
   "cell_type": "markdown",
   "id": "ed4296bc",
   "metadata": {
    "editable": true
   },
   "source": [
    "## Vector Quantization: Actual Example Use Case\n",
    "Before we wrap up this topic we will consider the topic of **vector quantization**\n",
    ". It is a technique which comes from signal processing theory. And is a basis\n",
    "for some kinds of lossy compression. This is obvious because the $k$-means\n",
    "algorithm is non-injective (many-to-one). Take notice of the fact that while the\n",
    "$k$-means algorithm is an example of a vector quantization, there also exists\n",
    "other vector quantization algorithms. We will be doing compression on an image,\n",
    "but in principle this method can be applied to any form of data. We leave it to\n",
    "the interested reader to try doing compression on something else.\n",
    "\n",
    "We load in our image. And do some array manipulation to make the image size more\n",
    "manageable. The way this will work is our centroids will represent colors, and\n",
    "clustering means that we 'force' pixels that originally were not that color to\n",
    "'turn' that color. Some cool art can probably be made using this. Do not\n",
    "hesitate to try for yourself on another image!!"
   ]
  },
  {
   "cell_type": "code",
   "execution_count": 22,
   "id": "6ff86963",
   "metadata": {
    "collapsed": false,
    "editable": true
   },
   "outputs": [],
   "source": [
    "example_image = image.imread('clustering_example_images/some_image.jpg') / 255\n",
    "print(f'Initial shape: {example_image.shape}')\n",
    "x, y, rgb = example_image.shape\n",
    "example_image = example_image[0:500, 200:800, :]\n",
    "reshaped_image = np.reshape(example_image, (500 * 600, rgb))\n",
    "print(f'New shape: {reshaped_image.shape}')"
   ]
  },
  {
   "cell_type": "markdown",
   "id": "531ed961",
   "metadata": {
    "editable": true
   },
   "source": [
    "<!-- dom:FIGURE: [clustering_example_images/some_image.jpg] -->\n",
    "<!-- begin figure -->\n",
    "\n",
    "<img src=\"clustering_example_images/some_image.jpg\" ><p style=\"font-size: 0.9em\"><i>Figure 1: </i></p>\n",
    "<!-- end figure -->\n",
    "\n",
    "Let's first try clustering with different numbers of centroids and look at the\n",
    "effect. We will use the numpy implementation because it was the fastest."
   ]
  },
  {
   "cell_type": "code",
   "execution_count": 23,
   "id": "6e9dc23e",
   "metadata": {
    "collapsed": false,
    "editable": true
   },
   "outputs": [],
   "source": [
    "cluster_labels_4, centroids_4 = np_k_means(reshaped_image, n_clusters=4,\n",
    "                                            tolerance=1e-4)\n",
    "cluster_labels_6, centroids_6 = np_k_means(reshaped_image, n_clusters=6,\n",
    "                                            tolerance=1e-4)\n",
    "cluster_labels_8, centroids_8 = np_k_means(reshaped_image, n_clusters=8,\n",
    "                                            tolerance=1e-4)\n",
    "\n",
    "compressed_image_4 = reshaped_image.copy()\n",
    "compressed_image_6 = reshaped_image.copy()\n",
    "compressed_image_8 = reshaped_image.copy()\n",
    "\n",
    "for i in range(len(reshaped_image)):\n",
    "    compressed_image_4[i] = centroids_4[cluster_labels_4[i]]\n",
    "    compressed_image_6[i] = centroids_6[cluster_labels_6[i]]\n",
    "    compressed_image_8[i] = centroids_8[cluster_labels_8[i]]"
   ]
  },
  {
   "cell_type": "code",
   "execution_count": 24,
   "id": "0b52671e",
   "metadata": {
    "collapsed": false,
    "editable": true
   },
   "outputs": [],
   "source": [
    "fig, ax = plt.subplots(2, 2, figsize=(8, 5))\n",
    "ax[0, 0].imshow(example_image)\n",
    "ax[0, 0].set_title('Original')\n",
    "ax[0, 0].axis('off')\n",
    "\n",
    "ax[0, 1].imshow(np.reshape(compressed_image_4, (500, 600, 3)))\n",
    "ax[0, 1].set_title('$n_c = 4$')\n",
    "ax[0, 1].axis('off')\n",
    "\n",
    "ax[1, 0].imshow(np.reshape(compressed_image_6, (500, 600, 3)))\n",
    "ax[1, 0].set_title('$n_c = 6$')\n",
    "ax[1, 0].axis('off')\n",
    "\n",
    "ax[1, 1].imshow(np.reshape(compressed_image_8, (500, 600, 3)))\n",
    "ax[1, 1].set_title('$n_c = 8$')\n",
    "ax[1, 1].axis('off')\n",
    "\n",
    "plt.show()"
   ]
  },
  {
   "cell_type": "markdown",
   "id": "6c4cbde1",
   "metadata": {
    "editable": true
   },
   "source": [
    "And we have randomly stumbled upon how stencils for spray painting can be made.\n",
    "Definitely a lot of potential for cool art here!"
   ]
  }
 ],
 "metadata": {},
 "nbformat": 4,
 "nbformat_minor": 5
}
